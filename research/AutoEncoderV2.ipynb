{
  "nbformat": 4,
  "nbformat_minor": 0,
  "metadata": {
    "colab": {
      "provenance": [],
      "gpuType": "T4"
    },
    "kernelspec": {
      "name": "python3",
      "display_name": "Python 3"
    },
    "language_info": {
      "name": "python"
    },
    "accelerator": "GPU",
    "gpuClass": "standard"
  },
  "cells": [
    {
      "cell_type": "code",
      "execution_count": null,
      "metadata": {
        "colab": {
          "base_uri": "https://localhost:8080/"
        },
        "id": "sWHdNnarlMPv",
        "outputId": "b888c83d-13c4-40e2-c8af-998ecdfd5ca5"
      },
      "outputs": [
        {
          "output_type": "stream",
          "name": "stdout",
          "text": [
            "Mounted at /content/gdrive\n"
          ]
        }
      ],
      "source": [
        "# from google.colab import drive\n",
        "# drive.mount('/content/gdrive')"
      ]
    },
    {
      "cell_type": "code",
      "source": [
        "# !unzip /content/gdrive/MyDrive/Data/dataset.zip > /dev/null"
      ],
      "metadata": {
        "id": "q8vB_A37lVl2"
      },
      "execution_count": null,
      "outputs": []
    },
    {
      "cell_type": "code",
      "source": [
        "# Import Libraries\n",
        "\n",
        "import matplotlib.pylab as plt\n",
        "import tensorflow_hub as hub\n",
        "from tensorflow.keras import layers\n",
        "import tensorflow as tf\n",
        "import cv2\n",
        "import os\n",
        "import matplotlib.pyplot as plt\n",
        "import numpy as np\n",
        "import pandas as pd"
      ],
      "metadata": {
        "id": "m-QZpQ-fm8NZ"
      },
      "execution_count": null,
      "outputs": []
    },
    {
      "cell_type": "code",
      "source": [
        "# Read image paths\n",
        "\n",
        "imagePaths=[]\n",
        "for root, dirnames, filenames in os.walk(r'../dataset'):\n",
        "    for filename in filenames:\n",
        "        if (filename[-3:] == 'jpg'):\n",
        "            imagePaths.append(os.path.join(root, filename))\n",
        "            \n",
        "print(len(imagePaths))"
      ],
      "metadata": {
        "colab": {
          "base_uri": "https://localhost:8080/"
        },
        "id": "jJtgVSeOm9Lw",
        "outputId": "8cf31dc4-3457-4920-8afe-bc0d884b0773"
      },
      "execution_count": null,
      "outputs": [
        {
          "output_type": "stream",
          "name": "stdout",
          "text": [
            "25260\n"
          ]
        }
      ]
    },
    {
      "cell_type": "code",
      "source": [
        "image=plt.imread(imagePaths[0])\n",
        "image.shape"
      ],
      "metadata": {
        "colab": {
          "base_uri": "https://localhost:8080/"
        },
        "id": "5M27-cbhnYgi",
        "outputId": "15c228c5-0328-4188-f042-32fb817195d0"
      },
      "execution_count": null,
      "outputs": [
        {
          "output_type": "execute_result",
          "data": {
            "text/plain": [
              "(128, 64, 3)"
            ]
          },
          "metadata": {},
          "execution_count": 9
        }
      ]
    },
    {
      "cell_type": "code",
      "source": [
        "# AutoEncoder\n",
        "\n",
        "from tensorflow.keras.models import Model, Sequential\n",
        "from tensorflow.keras.layers import Conv2D, MaxPooling2D, UpSampling2D, Dropout, Flatten, Dense, Reshape, BatchNormalization\n",
        "\n",
        "input_shape=(64, 64, 3)\n",
        "encoding_dim = 32\n",
        "\n",
        "# Encoder\n",
        "encoder = Sequential([\n",
        "    Conv2D(input_shape=input_shape, filters=64, kernel_size=(3, 3), activation='relu', padding='same'),\n",
        "    MaxPooling2D((2, 2), padding='same'),\n",
        "    Conv2D(32, (3, 3), activation='LeakyReLU', padding='same'),\n",
        "    MaxPooling2D((2, 2), padding='same'),\n",
        "    Conv2D(16, (3, 3), activation='LeakyReLU', padding='same'),\n",
        "    Flatten(),\n",
        "    Dense(256, activation='LeakyReLU'),\n",
        "    BatchNormalization(),\n",
        "    Dense(128, activation='LeakyReLU'),\n",
        "    BatchNormalization(),\n",
        "    Dense(encoding_dim, activation='LeakyReLU')\n",
        "])\n",
        "\n",
        "# Decoder\n",
        "decoder = Sequential([\n",
        "    Dense(128, activation='LeakyReLU', input_shape=(encoding_dim,)),\n",
        "    BatchNormalization(),\n",
        "    Dense(8*8*3, activation='LeakyReLU'),\n",
        "    BatchNormalization(),\n",
        "    Reshape((8, 8, 3)),\n",
        "    UpSampling2D((2, 2)),\n",
        "    Conv2D(32, (3, 3), activation='LeakyReLU', padding='same'),\n",
        "    UpSampling2D((2, 2)),\n",
        "    Conv2D(64, (3, 3), activation='LeakyReLU', padding='same'),\n",
        "    UpSampling2D((2, 2)),\n",
        "    Conv2D(3, (3, 3), activation='sigmoid', padding='same')\n",
        "])\n",
        "\n",
        "\n",
        "autoencoder_dr = Model(inputs = encoder.inputs, outputs = decoder(encoder.outputs))\n",
        "autoencoder_dr.compile(loss = 'mse')"
      ],
      "metadata": {
        "id": "ev0jOPl9LXDD"
      },
      "execution_count": null,
      "outputs": []
    },
    {
      "cell_type": "code",
      "source": [
        "autoencoder_dr.summary()"
      ],
      "metadata": {
        "colab": {
          "base_uri": "https://localhost:8080/"
        },
        "id": "ulWsACF3KeJi",
        "outputId": "d693ec53-2f5f-40fa-ac08-8155ee4d6a9f"
      },
      "execution_count": null,
      "outputs": [
        {
          "output_type": "stream",
          "name": "stdout",
          "text": [
            "Model: \"model_13\"\n",
            "_________________________________________________________________\n",
            " Layer (type)                Output Shape              Param #   \n",
            "=================================================================\n",
            " conv2d_68_input (InputLayer  [(None, 64, 64, 3)]      0         \n",
            " )                                                               \n",
            "                                                                 \n",
            " conv2d_68 (Conv2D)          (None, 64, 64, 64)        1792      \n",
            "                                                                 \n",
            " max_pooling2d_22 (MaxPoolin  (None, 32, 32, 64)       0         \n",
            " g2D)                                                            \n",
            "                                                                 \n",
            " conv2d_69 (Conv2D)          (None, 32, 32, 32)        18464     \n",
            "                                                                 \n",
            " max_pooling2d_23 (MaxPoolin  (None, 16, 16, 32)       0         \n",
            " g2D)                                                            \n",
            "                                                                 \n",
            " conv2d_70 (Conv2D)          (None, 16, 16, 16)        4624      \n",
            "                                                                 \n",
            " flatten_12 (Flatten)        (None, 4096)              0         \n",
            "                                                                 \n",
            " dense_76 (Dense)            (None, 256)               1048832   \n",
            "                                                                 \n",
            " batch_normalization_4 (Batc  (None, 256)              1024      \n",
            " hNormalization)                                                 \n",
            "                                                                 \n",
            " dense_77 (Dense)            (None, 128)               32896     \n",
            "                                                                 \n",
            " batch_normalization_5 (Batc  (None, 128)              512       \n",
            " hNormalization)                                                 \n",
            "                                                                 \n",
            " dense_78 (Dense)            (None, 32)                4128      \n",
            "                                                                 \n",
            " sequential_25 (Sequential)  (None, 64, 64, 3)         51395     \n",
            "                                                                 \n",
            "=================================================================\n",
            "Total params: 1,163,667\n",
            "Trainable params: 1,162,259\n",
            "Non-trainable params: 1,408\n",
            "_________________________________________________________________\n"
          ]
        }
      ]
    },
    {
      "cell_type": "code",
      "source": [
        "decoder.summary()"
      ],
      "metadata": {
        "colab": {
          "base_uri": "https://localhost:8080/"
        },
        "id": "Z4yy6p6HSLIc",
        "outputId": "baf74f71-a18c-46bf-b2bb-9c0d13c9ccdb"
      },
      "execution_count": null,
      "outputs": [
        {
          "output_type": "stream",
          "name": "stdout",
          "text": [
            "Model: \"sequential_25\"\n",
            "_________________________________________________________________\n",
            " Layer (type)                Output Shape              Param #   \n",
            "=================================================================\n",
            " dense_79 (Dense)            (None, 128)               4224      \n",
            "                                                                 \n",
            " batch_normalization_6 (Batc  (None, 128)              512       \n",
            " hNormalization)                                                 \n",
            "                                                                 \n",
            " dense_80 (Dense)            (None, 192)               24768     \n",
            "                                                                 \n",
            " batch_normalization_7 (Batc  (None, 192)              768       \n",
            " hNormalization)                                                 \n",
            "                                                                 \n",
            " reshape_12 (Reshape)        (None, 8, 8, 3)           0         \n",
            "                                                                 \n",
            " up_sampling2d_27 (UpSamplin  (None, 16, 16, 3)        0         \n",
            " g2D)                                                            \n",
            "                                                                 \n",
            " conv2d_71 (Conv2D)          (None, 16, 16, 32)        896       \n",
            "                                                                 \n",
            " up_sampling2d_28 (UpSamplin  (None, 32, 32, 32)       0         \n",
            " g2D)                                                            \n",
            "                                                                 \n",
            " conv2d_72 (Conv2D)          (None, 32, 32, 64)        18496     \n",
            "                                                                 \n",
            " up_sampling2d_29 (UpSamplin  (None, 64, 64, 64)       0         \n",
            " g2D)                                                            \n",
            "                                                                 \n",
            " conv2d_73 (Conv2D)          (None, 64, 64, 3)         1731      \n",
            "                                                                 \n",
            "=================================================================\n",
            "Total params: 51,395\n",
            "Trainable params: 50,755\n",
            "Non-trainable params: 640\n",
            "_________________________________________________________________\n"
          ]
        }
      ]
    },
    {
      "cell_type": "code",
      "source": [
        "# Compile the model\n",
        "\n",
        "autoencoder_dr = Model(inputs = encoder.inputs, outputs = decoder(encoder.outputs))\n",
        "autoencoder_dr.compile(loss = 'mse')"
      ],
      "metadata": {
        "id": "I6bhaUNrB8Ao"
      },
      "execution_count": null,
      "outputs": []
    },
    {
      "cell_type": "code",
      "source": [
        "#Early Sopping\n",
        "\n",
        "from keras.callbacks import EarlyStopping\n",
        "\n",
        "es = EarlyStopping(monitor='val_loss', mode='min', verbose=1, patience=20)"
      ],
      "metadata": {
        "id": "5xO9tIuQr4d3"
      },
      "execution_count": null,
      "outputs": []
    },
    {
      "cell_type": "code",
      "source": [
        "from sklearn.model_selection import train_test_split\n",
        "\n",
        "# Test Train Split\n",
        "\n",
        "imagePathsTrain, imagePathsTest = train_test_split(imagePaths, test_size=0.1, random_state=42)\n",
        "print(len(imagePathsTrain), len(imagePathsTest))"
      ],
      "metadata": {
        "colab": {
          "base_uri": "https://localhost:8080/"
        },
        "id": "LOY1u6zCByT8",
        "outputId": "ff7c2033-b2ec-42da-a969-42df483aede9"
      },
      "execution_count": null,
      "outputs": [
        {
          "output_type": "stream",
          "name": "stdout",
          "text": [
            "22734 2526\n"
          ]
        }
      ]
    },
    {
      "cell_type": "code",
      "source": [
        "x_train = []\n",
        "x_val = []\n",
        "train = []\n",
        "\n",
        "for i in range(len(imagePathsTrain)):\n",
        "  if i%7000 == 0 and i!=0:\n",
        "    # Train the autoencoder\n",
        "    x_train, x_val = train_test_split(train, test_size=0.2, random_state=42)\n",
        "    x_train = np.array(x_train)\n",
        "    x_val = np.array(x_val)\n",
        "    print(np.array(train).shape, x_train.shape, x_val.shape, i)\n",
        "    autoencoder_dr.fit(x_train, x_train, epochs=100, batch_size=64, shuffle=True, validation_data=(x_val, x_val), callbacks=[es])\n",
        "    train = []\n",
        "    x_train = []\n",
        "    x_val = []\n",
        "  try:\n",
        "    # Process the images\n",
        "    image=plt.imread(imagePaths[i])\n",
        "    image=cv2.resize(image, (64, 64))\n",
        "    image = image/255\n",
        "    train.append(image)\n",
        "  except:\n",
        "    pass\n",
        "x_train, x_val = train_test_split(train, test_size=0.2, random_state=42)\n",
        "x_train = np.array(x_train)\n",
        "x_val = np.array(x_val)\n",
        "print(np.array(train).shape, x_train.shape, x_val.shape)\n",
        "autoencoder_dr.fit(x_train, x_train, epochs=100, batch_size=32, shuffle=True, validation_data=(x_val, x_val))"
      ],
      "metadata": {
        "colab": {
          "base_uri": "https://localhost:8080/"
        },
        "id": "TCq8BtqNCxM6",
        "outputId": "fb97d0dd-ba4e-4fbd-af3a-ce5093c9200d"
      },
      "execution_count": null,
      "outputs": [
        {
          "output_type": "stream",
          "name": "stdout",
          "text": [
            "(7000, 64, 64, 3) (5600, 64, 64, 3) (1400, 64, 64, 3) 7000\n",
            "Epoch 1/100\n",
            "88/88 [==============================] - 8s 35ms/step - loss: 0.0284 - val_loss: 0.0412\n",
            "Epoch 2/100\n",
            "88/88 [==============================] - 2s 26ms/step - loss: 0.0233 - val_loss: 0.0347\n",
            "Epoch 3/100\n",
            "88/88 [==============================] - 2s 26ms/step - loss: 0.0220 - val_loss: 0.0280\n",
            "Epoch 4/100\n",
            "88/88 [==============================] - 3s 29ms/step - loss: 0.0211 - val_loss: 0.0253\n",
            "Epoch 5/100\n",
            "88/88 [==============================] - 2s 27ms/step - loss: 0.0205 - val_loss: 0.0226\n",
            "Epoch 6/100\n",
            "88/88 [==============================] - 2s 26ms/step - loss: 0.0201 - val_loss: 0.0223\n",
            "Epoch 7/100\n",
            "88/88 [==============================] - 2s 27ms/step - loss: 0.0197 - val_loss: 0.0206\n",
            "Epoch 8/100\n",
            "88/88 [==============================] - 2s 26ms/step - loss: 0.0195 - val_loss: 0.0210\n",
            "Epoch 9/100\n",
            "88/88 [==============================] - 2s 28ms/step - loss: 0.0192 - val_loss: 0.0204\n",
            "Epoch 10/100\n",
            "88/88 [==============================] - 3s 29ms/step - loss: 0.0191 - val_loss: 0.0195\n",
            "Epoch 11/100\n",
            "88/88 [==============================] - 2s 26ms/step - loss: 0.0190 - val_loss: 0.0199\n",
            "Epoch 12/100\n",
            "88/88 [==============================] - 2s 26ms/step - loss: 0.0188 - val_loss: 0.0205\n",
            "Epoch 13/100\n",
            "88/88 [==============================] - 2s 26ms/step - loss: 0.0187 - val_loss: 0.0192\n",
            "Epoch 14/100\n",
            "88/88 [==============================] - 2s 26ms/step - loss: 0.0185 - val_loss: 0.0193\n",
            "Epoch 15/100\n",
            "88/88 [==============================] - 2s 28ms/step - loss: 0.0184 - val_loss: 0.0198\n",
            "Epoch 16/100\n",
            "88/88 [==============================] - 3s 29ms/step - loss: 0.0183 - val_loss: 0.0190\n",
            "Epoch 17/100\n",
            "88/88 [==============================] - 2s 27ms/step - loss: 0.0182 - val_loss: 0.0199\n",
            "Epoch 18/100\n",
            "88/88 [==============================] - 2s 27ms/step - loss: 0.0181 - val_loss: 0.0194\n",
            "Epoch 19/100\n",
            "88/88 [==============================] - 2s 26ms/step - loss: 0.0181 - val_loss: 0.0191\n",
            "Epoch 20/100\n",
            "88/88 [==============================] - 2s 25ms/step - loss: 0.0179 - val_loss: 0.0192\n",
            "Epoch 21/100\n",
            "88/88 [==============================] - 3s 29ms/step - loss: 0.0179 - val_loss: 0.0193\n",
            "Epoch 22/100\n",
            "88/88 [==============================] - 2s 27ms/step - loss: 0.0178 - val_loss: 0.0185\n",
            "Epoch 23/100\n",
            "88/88 [==============================] - 2s 26ms/step - loss: 0.0178 - val_loss: 0.0187\n",
            "Epoch 24/100\n",
            "88/88 [==============================] - 2s 26ms/step - loss: 0.0177 - val_loss: 0.0182\n",
            "Epoch 25/100\n",
            "88/88 [==============================] - 2s 26ms/step - loss: 0.0176 - val_loss: 0.0183\n",
            "Epoch 26/100\n",
            "88/88 [==============================] - 2s 25ms/step - loss: 0.0176 - val_loss: 0.0183\n",
            "Epoch 27/100\n",
            "88/88 [==============================] - 2s 28ms/step - loss: 0.0175 - val_loss: 0.0184\n",
            "Epoch 28/100\n",
            "88/88 [==============================] - 2s 27ms/step - loss: 0.0175 - val_loss: 0.0180\n",
            "Epoch 29/100\n",
            "88/88 [==============================] - 2s 25ms/step - loss: 0.0174 - val_loss: 0.0180\n",
            "Epoch 30/100\n",
            "88/88 [==============================] - 2s 25ms/step - loss: 0.0174 - val_loss: 0.0185\n",
            "Epoch 31/100\n",
            "88/88 [==============================] - 2s 26ms/step - loss: 0.0173 - val_loss: 0.0181\n",
            "Epoch 32/100\n",
            "88/88 [==============================] - 2s 26ms/step - loss: 0.0172 - val_loss: 0.0178\n",
            "Epoch 33/100\n",
            "88/88 [==============================] - 2s 27ms/step - loss: 0.0172 - val_loss: 0.0175\n",
            "Epoch 34/100\n",
            "88/88 [==============================] - 2s 27ms/step - loss: 0.0172 - val_loss: 0.0176\n",
            "Epoch 35/100\n",
            "88/88 [==============================] - 2s 26ms/step - loss: 0.0171 - val_loss: 0.0176\n",
            "Epoch 36/100\n",
            "88/88 [==============================] - 2s 26ms/step - loss: 0.0171 - val_loss: 0.0174\n",
            "Epoch 37/100\n",
            "88/88 [==============================] - 2s 26ms/step - loss: 0.0171 - val_loss: 0.0178\n",
            "Epoch 38/100\n",
            "88/88 [==============================] - 2s 26ms/step - loss: 0.0170 - val_loss: 0.0175\n",
            "Epoch 39/100\n",
            "88/88 [==============================] - 2s 28ms/step - loss: 0.0169 - val_loss: 0.0171\n",
            "Epoch 40/100\n",
            "88/88 [==============================] - 2s 27ms/step - loss: 0.0169 - val_loss: 0.0179\n",
            "Epoch 41/100\n",
            "88/88 [==============================] - 2s 27ms/step - loss: 0.0170 - val_loss: 0.0173\n",
            "Epoch 42/100\n",
            "88/88 [==============================] - 2s 26ms/step - loss: 0.0169 - val_loss: 0.0173\n",
            "Epoch 43/100\n",
            "88/88 [==============================] - 2s 26ms/step - loss: 0.0168 - val_loss: 0.0180\n",
            "Epoch 44/100\n",
            "88/88 [==============================] - 2s 27ms/step - loss: 0.0168 - val_loss: 0.0172\n",
            "Epoch 45/100\n",
            "88/88 [==============================] - 3s 29ms/step - loss: 0.0168 - val_loss: 0.0182\n",
            "Epoch 46/100\n",
            "88/88 [==============================] - 2s 26ms/step - loss: 0.0167 - val_loss: 0.0171\n",
            "Epoch 47/100\n",
            "88/88 [==============================] - 2s 26ms/step - loss: 0.0167 - val_loss: 0.0172\n",
            "Epoch 48/100\n",
            "88/88 [==============================] - 2s 27ms/step - loss: 0.0167 - val_loss: 0.0177\n",
            "Epoch 49/100\n",
            "88/88 [==============================] - 2s 26ms/step - loss: 0.0166 - val_loss: 0.0173\n",
            "Epoch 50/100\n",
            "88/88 [==============================] - 3s 32ms/step - loss: 0.0166 - val_loss: 0.0172\n",
            "Epoch 51/100\n",
            "88/88 [==============================] - 3s 34ms/step - loss: 0.0166 - val_loss: 0.0175\n",
            "Epoch 52/100\n",
            "88/88 [==============================] - 2s 27ms/step - loss: 0.0166 - val_loss: 0.0177\n",
            "Epoch 53/100\n",
            "88/88 [==============================] - 2s 26ms/step - loss: 0.0165 - val_loss: 0.0170\n",
            "Epoch 54/100\n",
            "88/88 [==============================] - 2s 26ms/step - loss: 0.0165 - val_loss: 0.0179\n",
            "Epoch 55/100\n",
            "88/88 [==============================] - 2s 25ms/step - loss: 0.0165 - val_loss: 0.0166\n",
            "Epoch 56/100\n",
            "88/88 [==============================] - 2s 28ms/step - loss: 0.0165 - val_loss: 0.0181\n",
            "Epoch 57/100\n",
            "88/88 [==============================] - 3s 29ms/step - loss: 0.0164 - val_loss: 0.0171\n",
            "Epoch 58/100\n",
            "88/88 [==============================] - 2s 26ms/step - loss: 0.0164 - val_loss: 0.0170\n",
            "Epoch 59/100\n",
            "88/88 [==============================] - 2s 26ms/step - loss: 0.0164 - val_loss: 0.0172\n",
            "Epoch 60/100\n",
            "88/88 [==============================] - 2s 26ms/step - loss: 0.0164 - val_loss: 0.0171\n",
            "Epoch 61/100\n",
            "88/88 [==============================] - 2s 25ms/step - loss: 0.0164 - val_loss: 0.0168\n",
            "Epoch 62/100\n",
            "88/88 [==============================] - 2s 27ms/step - loss: 0.0164 - val_loss: 0.0171\n",
            "Epoch 63/100\n",
            "88/88 [==============================] - 2s 28ms/step - loss: 0.0163 - val_loss: 0.0170\n",
            "Epoch 64/100\n",
            "88/88 [==============================] - 2s 26ms/step - loss: 0.0163 - val_loss: 0.0174\n",
            "Epoch 65/100\n",
            "88/88 [==============================] - 2s 26ms/step - loss: 0.0162 - val_loss: 0.0167\n",
            "Epoch 66/100\n",
            "88/88 [==============================] - 2s 25ms/step - loss: 0.0162 - val_loss: 0.0165\n",
            "Epoch 67/100\n",
            "88/88 [==============================] - 2s 26ms/step - loss: 0.0163 - val_loss: 0.0169\n",
            "Epoch 68/100\n",
            "88/88 [==============================] - 2s 28ms/step - loss: 0.0162 - val_loss: 0.0165\n",
            "Epoch 69/100\n",
            "88/88 [==============================] - 2s 27ms/step - loss: 0.0162 - val_loss: 0.0162\n",
            "Epoch 70/100\n",
            "88/88 [==============================] - 2s 25ms/step - loss: 0.0161 - val_loss: 0.0164\n",
            "Epoch 71/100\n",
            "88/88 [==============================] - 2s 26ms/step - loss: 0.0161 - val_loss: 0.0164\n",
            "Epoch 72/100\n",
            "88/88 [==============================] - 2s 26ms/step - loss: 0.0161 - val_loss: 0.0179\n",
            "Epoch 73/100\n",
            "88/88 [==============================] - 2s 25ms/step - loss: 0.0162 - val_loss: 0.0164\n",
            "Epoch 74/100\n",
            "88/88 [==============================] - 2s 28ms/step - loss: 0.0161 - val_loss: 0.0171\n",
            "Epoch 75/100\n",
            "88/88 [==============================] - 2s 27ms/step - loss: 0.0161 - val_loss: 0.0175\n",
            "Epoch 76/100\n",
            "88/88 [==============================] - 2s 25ms/step - loss: 0.0161 - val_loss: 0.0169\n",
            "Epoch 77/100\n",
            "88/88 [==============================] - 2s 27ms/step - loss: 0.0161 - val_loss: 0.0167\n",
            "Epoch 78/100\n",
            "88/88 [==============================] - 2s 26ms/step - loss: 0.0160 - val_loss: 0.0169\n",
            "Epoch 79/100\n",
            "88/88 [==============================] - 2s 25ms/step - loss: 0.0160 - val_loss: 0.0163\n",
            "Epoch 80/100\n",
            "88/88 [==============================] - 2s 28ms/step - loss: 0.0160 - val_loss: 0.0165\n",
            "Epoch 81/100\n",
            "88/88 [==============================] - 2s 27ms/step - loss: 0.0160 - val_loss: 0.0169\n",
            "Epoch 82/100\n",
            "88/88 [==============================] - 2s 25ms/step - loss: 0.0159 - val_loss: 0.0161\n",
            "Epoch 83/100\n",
            "88/88 [==============================] - 2s 25ms/step - loss: 0.0159 - val_loss: 0.0168\n",
            "Epoch 84/100\n",
            "88/88 [==============================] - 2s 25ms/step - loss: 0.0159 - val_loss: 0.0161\n",
            "Epoch 85/100\n",
            "88/88 [==============================] - 2s 26ms/step - loss: 0.0159 - val_loss: 0.0176\n",
            "Epoch 86/100\n",
            "88/88 [==============================] - 3s 30ms/step - loss: 0.0159 - val_loss: 0.0161\n",
            "Epoch 87/100\n",
            "88/88 [==============================] - 2s 27ms/step - loss: 0.0159 - val_loss: 0.0164\n",
            "Epoch 88/100\n",
            "88/88 [==============================] - 2s 25ms/step - loss: 0.0159 - val_loss: 0.0162\n",
            "Epoch 89/100\n",
            "88/88 [==============================] - 2s 25ms/step - loss: 0.0159 - val_loss: 0.0162\n",
            "Epoch 90/100\n",
            "88/88 [==============================] - 2s 25ms/step - loss: 0.0159 - val_loss: 0.0162\n",
            "Epoch 91/100\n",
            "88/88 [==============================] - 2s 25ms/step - loss: 0.0159 - val_loss: 0.0161\n",
            "Epoch 92/100\n",
            "88/88 [==============================] - 2s 27ms/step - loss: 0.0158 - val_loss: 0.0163\n",
            "Epoch 93/100\n",
            "88/88 [==============================] - 2s 27ms/step - loss: 0.0158 - val_loss: 0.0159\n",
            "Epoch 94/100\n",
            "88/88 [==============================] - 2s 27ms/step - loss: 0.0159 - val_loss: 0.0160\n",
            "Epoch 95/100\n",
            "88/88 [==============================] - 2s 27ms/step - loss: 0.0158 - val_loss: 0.0159\n",
            "Epoch 96/100\n",
            "88/88 [==============================] - 2s 26ms/step - loss: 0.0158 - val_loss: 0.0165\n",
            "Epoch 97/100\n",
            "88/88 [==============================] - 2s 26ms/step - loss: 0.0158 - val_loss: 0.0160\n",
            "Epoch 98/100\n",
            "88/88 [==============================] - 3s 29ms/step - loss: 0.0158 - val_loss: 0.0163\n",
            "Epoch 99/100\n",
            "88/88 [==============================] - 2s 26ms/step - loss: 0.0157 - val_loss: 0.0161\n",
            "Epoch 100/100\n",
            "88/88 [==============================] - 2s 25ms/step - loss: 0.0157 - val_loss: 0.0165\n",
            "(7000, 64, 64, 3) (5600, 64, 64, 3) (1400, 64, 64, 3) 14000\n",
            "Epoch 1/100\n",
            "88/88 [==============================] - 3s 30ms/step - loss: 0.0160 - val_loss: 0.0163\n",
            "Epoch 2/100\n",
            "88/88 [==============================] - 2s 27ms/step - loss: 0.0160 - val_loss: 0.0170\n",
            "Epoch 3/100\n",
            "88/88 [==============================] - 2s 26ms/step - loss: 0.0160 - val_loss: 0.0157\n",
            "Epoch 4/100\n",
            "88/88 [==============================] - 2s 27ms/step - loss: 0.0159 - val_loss: 0.0158\n",
            "Epoch 5/100\n",
            "88/88 [==============================] - 2s 27ms/step - loss: 0.0159 - val_loss: 0.0159\n",
            "Epoch 6/100\n",
            "88/88 [==============================] - 2s 26ms/step - loss: 0.0159 - val_loss: 0.0157\n",
            "Epoch 7/100\n",
            "88/88 [==============================] - 2s 27ms/step - loss: 0.0159 - val_loss: 0.0157\n",
            "Epoch 8/100\n",
            "88/88 [==============================] - 2s 28ms/step - loss: 0.0158 - val_loss: 0.0155\n",
            "Epoch 9/100\n",
            "88/88 [==============================] - 2s 27ms/step - loss: 0.0158 - val_loss: 0.0158\n",
            "Epoch 10/100\n",
            "88/88 [==============================] - 2s 26ms/step - loss: 0.0158 - val_loss: 0.0158\n",
            "Epoch 11/100\n",
            "88/88 [==============================] - 2s 27ms/step - loss: 0.0157 - val_loss: 0.0164\n",
            "Epoch 12/100\n",
            "88/88 [==============================] - 2s 26ms/step - loss: 0.0158 - val_loss: 0.0163\n",
            "Epoch 13/100\n",
            "88/88 [==============================] - 2s 28ms/step - loss: 0.0157 - val_loss: 0.0157\n",
            "Epoch 14/100\n",
            "88/88 [==============================] - 3s 30ms/step - loss: 0.0157 - val_loss: 0.0162\n",
            "Epoch 15/100\n",
            "88/88 [==============================] - 2s 26ms/step - loss: 0.0157 - val_loss: 0.0155\n",
            "Epoch 16/100\n",
            "88/88 [==============================] - 2s 26ms/step - loss: 0.0157 - val_loss: 0.0154\n",
            "Epoch 17/100\n",
            "88/88 [==============================] - 2s 26ms/step - loss: 0.0157 - val_loss: 0.0155\n",
            "Epoch 18/100\n",
            "88/88 [==============================] - 2s 26ms/step - loss: 0.0157 - val_loss: 0.0158\n",
            "Epoch 19/100\n",
            "88/88 [==============================] - 3s 29ms/step - loss: 0.0157 - val_loss: 0.0153\n",
            "Epoch 20/100\n",
            "88/88 [==============================] - 3s 30ms/step - loss: 0.0156 - val_loss: 0.0158\n",
            "Epoch 21/100\n",
            "88/88 [==============================] - 2s 27ms/step - loss: 0.0156 - val_loss: 0.0157\n",
            "Epoch 22/100\n",
            "88/88 [==============================] - 2s 28ms/step - loss: 0.0156 - val_loss: 0.0155\n",
            "Epoch 23/100\n",
            "88/88 [==============================] - 2s 26ms/step - loss: 0.0156 - val_loss: 0.0152\n",
            "Epoch 24/100\n",
            "88/88 [==============================] - 2s 27ms/step - loss: 0.0156 - val_loss: 0.0162\n",
            "Epoch 25/100\n",
            "88/88 [==============================] - 3s 30ms/step - loss: 0.0156 - val_loss: 0.0155\n",
            "Epoch 26/100\n",
            "88/88 [==============================] - 3s 29ms/step - loss: 0.0155 - val_loss: 0.0154\n",
            "Epoch 27/100\n",
            "88/88 [==============================] - 2s 27ms/step - loss: 0.0155 - val_loss: 0.0153\n",
            "Epoch 28/100\n",
            "88/88 [==============================] - 2s 25ms/step - loss: 0.0156 - val_loss: 0.0152\n",
            "Epoch 29/100\n",
            "88/88 [==============================] - 2s 26ms/step - loss: 0.0156 - val_loss: 0.0161\n",
            "Epoch 30/100\n",
            "88/88 [==============================] - 2s 27ms/step - loss: 0.0154 - val_loss: 0.0154\n",
            "Epoch 31/100\n",
            "88/88 [==============================] - 2s 27ms/step - loss: 0.0155 - val_loss: 0.0157\n",
            "Epoch 32/100\n",
            "88/88 [==============================] - 2s 26ms/step - loss: 0.0155 - val_loss: 0.0160\n",
            "Epoch 33/100\n",
            "88/88 [==============================] - 2s 27ms/step - loss: 0.0154 - val_loss: 0.0153\n",
            "Epoch 34/100\n",
            "88/88 [==============================] - 2s 25ms/step - loss: 0.0155 - val_loss: 0.0152\n",
            "Epoch 35/100\n",
            "88/88 [==============================] - 2s 26ms/step - loss: 0.0155 - val_loss: 0.0163\n",
            "Epoch 36/100\n",
            "88/88 [==============================] - 2s 27ms/step - loss: 0.0155 - val_loss: 0.0157\n",
            "Epoch 37/100\n",
            "88/88 [==============================] - 2s 28ms/step - loss: 0.0154 - val_loss: 0.0152\n",
            "Epoch 38/100\n",
            "88/88 [==============================] - 2s 26ms/step - loss: 0.0154 - val_loss: 0.0162\n",
            "Epoch 39/100\n",
            "88/88 [==============================] - 2s 26ms/step - loss: 0.0154 - val_loss: 0.0158\n",
            "Epoch 40/100\n",
            "88/88 [==============================] - 2s 26ms/step - loss: 0.0154 - val_loss: 0.0152\n",
            "Epoch 41/100\n",
            "88/88 [==============================] - 2s 26ms/step - loss: 0.0154 - val_loss: 0.0153\n",
            "Epoch 42/100\n",
            "88/88 [==============================] - 2s 27ms/step - loss: 0.0154 - val_loss: 0.0156\n",
            "Epoch 43/100\n",
            "88/88 [==============================] - 2s 28ms/step - loss: 0.0154 - val_loss: 0.0155\n",
            "Epoch 44/100\n",
            "88/88 [==============================] - 2s 26ms/step - loss: 0.0154 - val_loss: 0.0155\n",
            "Epoch 45/100\n",
            "88/88 [==============================] - 2s 27ms/step - loss: 0.0153 - val_loss: 0.0150\n",
            "Epoch 46/100\n",
            "88/88 [==============================] - 2s 26ms/step - loss: 0.0154 - val_loss: 0.0154\n",
            "Epoch 47/100\n",
            "88/88 [==============================] - 2s 26ms/step - loss: 0.0154 - val_loss: 0.0153\n",
            "Epoch 48/100\n",
            "88/88 [==============================] - 2s 28ms/step - loss: 0.0153 - val_loss: 0.0155\n",
            "Epoch 49/100\n",
            "88/88 [==============================] - 2s 28ms/step - loss: 0.0154 - val_loss: 0.0156\n",
            "Epoch 50/100\n",
            "88/88 [==============================] - 2s 27ms/step - loss: 0.0154 - val_loss: 0.0150\n",
            "Epoch 51/100\n",
            "88/88 [==============================] - 2s 26ms/step - loss: 0.0154 - val_loss: 0.0171\n",
            "Epoch 52/100\n",
            "88/88 [==============================] - 2s 26ms/step - loss: 0.0154 - val_loss: 0.0164\n",
            "Epoch 53/100\n",
            "88/88 [==============================] - 2s 26ms/step - loss: 0.0153 - val_loss: 0.0152\n",
            "Epoch 54/100\n",
            "88/88 [==============================] - 2s 28ms/step - loss: 0.0154 - val_loss: 0.0156\n",
            "Epoch 55/100\n",
            "88/88 [==============================] - 3s 29ms/step - loss: 0.0153 - val_loss: 0.0151\n",
            "Epoch 56/100\n",
            "88/88 [==============================] - 2s 27ms/step - loss: 0.0153 - val_loss: 0.0151\n",
            "Epoch 57/100\n",
            "88/88 [==============================] - 2s 26ms/step - loss: 0.0153 - val_loss: 0.0160\n",
            "Epoch 58/100\n",
            "88/88 [==============================] - 2s 26ms/step - loss: 0.0152 - val_loss: 0.0165\n",
            "Epoch 59/100\n",
            "88/88 [==============================] - 2s 26ms/step - loss: 0.0153 - val_loss: 0.0152\n",
            "Epoch 60/100\n",
            "88/88 [==============================] - 2s 28ms/step - loss: 0.0153 - val_loss: 0.0156\n",
            "Epoch 61/100\n",
            "88/88 [==============================] - 2s 27ms/step - loss: 0.0153 - val_loss: 0.0150\n",
            "Epoch 62/100\n",
            "88/88 [==============================] - 2s 26ms/step - loss: 0.0152 - val_loss: 0.0153\n",
            "Epoch 63/100\n",
            "88/88 [==============================] - 2s 26ms/step - loss: 0.0152 - val_loss: 0.0152\n",
            "Epoch 64/100\n",
            "88/88 [==============================] - 2s 27ms/step - loss: 0.0153 - val_loss: 0.0165\n",
            "Epoch 65/100\n",
            "88/88 [==============================] - 2s 26ms/step - loss: 0.0153 - val_loss: 0.0155\n",
            "Epoch 66/100\n",
            "88/88 [==============================] - 2s 28ms/step - loss: 0.0153 - val_loss: 0.0155\n",
            "Epoch 67/100\n",
            "88/88 [==============================] - 2s 27ms/step - loss: 0.0153 - val_loss: 0.0151\n",
            "Epoch 68/100\n",
            "88/88 [==============================] - 2s 26ms/step - loss: 0.0153 - val_loss: 0.0156\n",
            "Epoch 69/100\n",
            "88/88 [==============================] - 2s 26ms/step - loss: 0.0153 - val_loss: 0.0151\n",
            "Epoch 70/100\n",
            "88/88 [==============================] - 2s 26ms/step - loss: 0.0152 - val_loss: 0.0150\n",
            "Epoch 71/100\n",
            "88/88 [==============================] - 2s 27ms/step - loss: 0.0152 - val_loss: 0.0150\n",
            "Epoch 72/100\n",
            "88/88 [==============================] - 3s 29ms/step - loss: 0.0153 - val_loss: 0.0151\n",
            "Epoch 73/100\n",
            "88/88 [==============================] - 2s 27ms/step - loss: 0.0152 - val_loss: 0.0151\n",
            "Epoch 74/100\n",
            "88/88 [==============================] - 2s 26ms/step - loss: 0.0152 - val_loss: 0.0159\n",
            "Epoch 75/100\n",
            "88/88 [==============================] - 2s 26ms/step - loss: 0.0152 - val_loss: 0.0156\n",
            "Epoch 76/100\n",
            "88/88 [==============================] - 2s 26ms/step - loss: 0.0153 - val_loss: 0.0153\n",
            "Epoch 77/100\n",
            "88/88 [==============================] - 2s 27ms/step - loss: 0.0152 - val_loss: 0.0152\n",
            "Epoch 78/100\n",
            "88/88 [==============================] - 3s 29ms/step - loss: 0.0152 - val_loss: 0.0151\n",
            "Epoch 79/100\n",
            "88/88 [==============================] - 2s 28ms/step - loss: 0.0151 - val_loss: 0.0149\n",
            "Epoch 80/100\n",
            "88/88 [==============================] - 2s 27ms/step - loss: 0.0151 - val_loss: 0.0148\n",
            "Epoch 81/100\n",
            "88/88 [==============================] - 2s 26ms/step - loss: 0.0152 - val_loss: 0.0149\n",
            "Epoch 82/100\n",
            "88/88 [==============================] - 2s 26ms/step - loss: 0.0151 - val_loss: 0.0152\n",
            "Epoch 83/100\n",
            "88/88 [==============================] - 3s 28ms/step - loss: 0.0151 - val_loss: 0.0149\n",
            "Epoch 84/100\n",
            "88/88 [==============================] - 2s 28ms/step - loss: 0.0152 - val_loss: 0.0150\n",
            "Epoch 85/100\n",
            "88/88 [==============================] - 2s 26ms/step - loss: 0.0151 - val_loss: 0.0157\n",
            "Epoch 86/100\n",
            "88/88 [==============================] - 2s 26ms/step - loss: 0.0151 - val_loss: 0.0149\n",
            "Epoch 87/100\n",
            "88/88 [==============================] - 2s 26ms/step - loss: 0.0151 - val_loss: 0.0149\n",
            "Epoch 88/100\n",
            "88/88 [==============================] - 2s 26ms/step - loss: 0.0151 - val_loss: 0.0152\n",
            "Epoch 89/100\n",
            "88/88 [==============================] - 3s 29ms/step - loss: 0.0151 - val_loss: 0.0149\n",
            "Epoch 90/100\n",
            "88/88 [==============================] - 3s 29ms/step - loss: 0.0151 - val_loss: 0.0154\n",
            "Epoch 91/100\n",
            "88/88 [==============================] - 2s 26ms/step - loss: 0.0151 - val_loss: 0.0151\n",
            "Epoch 92/100\n",
            "88/88 [==============================] - 2s 26ms/step - loss: 0.0151 - val_loss: 0.0153\n",
            "Epoch 93/100\n",
            "88/88 [==============================] - 2s 27ms/step - loss: 0.0151 - val_loss: 0.0155\n",
            "Epoch 94/100\n",
            "88/88 [==============================] - 2s 27ms/step - loss: 0.0151 - val_loss: 0.0154\n",
            "Epoch 95/100\n",
            "88/88 [==============================] - 2s 28ms/step - loss: 0.0151 - val_loss: 0.0154\n",
            "Epoch 96/100\n",
            "88/88 [==============================] - 3s 29ms/step - loss: 0.0152 - val_loss: 0.0148\n",
            "Epoch 97/100\n",
            "88/88 [==============================] - 2s 26ms/step - loss: 0.0151 - val_loss: 0.0148\n",
            "Epoch 98/100\n",
            "88/88 [==============================] - 2s 26ms/step - loss: 0.0151 - val_loss: 0.0153\n",
            "Epoch 99/100\n",
            "88/88 [==============================] - 2s 26ms/step - loss: 0.0151 - val_loss: 0.0159\n",
            "Epoch 100/100\n",
            "88/88 [==============================] - 2s 27ms/step - loss: 0.0151 - val_loss: 0.0151\n",
            "(6999, 64, 64, 3) (5599, 64, 64, 3) (1400, 64, 64, 3) 21000\n",
            "Epoch 1/100\n",
            "88/88 [==============================] - 3s 31ms/step - loss: 0.0153 - val_loss: 0.0151\n",
            "Epoch 2/100\n",
            "88/88 [==============================] - 2s 26ms/step - loss: 0.0153 - val_loss: 0.0150\n",
            "Epoch 3/100\n",
            "88/88 [==============================] - 2s 26ms/step - loss: 0.0153 - val_loss: 0.0148\n",
            "Epoch 4/100\n",
            "88/88 [==============================] - 3s 30ms/step - loss: 0.0153 - val_loss: 0.0149\n",
            "Epoch 5/100\n",
            "88/88 [==============================] - 2s 27ms/step - loss: 0.0153 - val_loss: 0.0149\n",
            "Epoch 6/100\n",
            "88/88 [==============================] - 2s 26ms/step - loss: 0.0152 - val_loss: 0.0158\n",
            "Epoch 7/100\n",
            "88/88 [==============================] - 2s 26ms/step - loss: 0.0152 - val_loss: 0.0166\n",
            "Epoch 8/100\n",
            "88/88 [==============================] - 2s 26ms/step - loss: 0.0152 - val_loss: 0.0150\n",
            "Epoch 9/100\n",
            "88/88 [==============================] - 2s 27ms/step - loss: 0.0153 - val_loss: 0.0153\n",
            "Epoch 10/100\n",
            "88/88 [==============================] - 3s 29ms/step - loss: 0.0152 - val_loss: 0.0147\n",
            "Epoch 11/100\n",
            "88/88 [==============================] - 2s 27ms/step - loss: 0.0152 - val_loss: 0.0151\n",
            "Epoch 12/100\n",
            "88/88 [==============================] - 2s 27ms/step - loss: 0.0152 - val_loss: 0.0151\n",
            "Epoch 13/100\n",
            "88/88 [==============================] - 2s 27ms/step - loss: 0.0152 - val_loss: 0.0147\n",
            "Epoch 14/100\n",
            "88/88 [==============================] - 2s 26ms/step - loss: 0.0152 - val_loss: 0.0150\n",
            "Epoch 15/100\n",
            "88/88 [==============================] - 2s 27ms/step - loss: 0.0152 - val_loss: 0.0147\n",
            "Epoch 16/100\n",
            "88/88 [==============================] - 2s 28ms/step - loss: 0.0152 - val_loss: 0.0148\n",
            "Epoch 17/100\n",
            "88/88 [==============================] - 2s 27ms/step - loss: 0.0152 - val_loss: 0.0150\n",
            "Epoch 18/100\n",
            "88/88 [==============================] - 2s 26ms/step - loss: 0.0152 - val_loss: 0.0148\n",
            "Epoch 19/100\n",
            "88/88 [==============================] - 2s 26ms/step - loss: 0.0152 - val_loss: 0.0153\n",
            "Epoch 20/100\n",
            "88/88 [==============================] - 2s 26ms/step - loss: 0.0151 - val_loss: 0.0169\n",
            "Epoch 21/100\n",
            "88/88 [==============================] - 2s 28ms/step - loss: 0.0151 - val_loss: 0.0146\n",
            "Epoch 22/100\n",
            "88/88 [==============================] - 2s 28ms/step - loss: 0.0151 - val_loss: 0.0145\n",
            "Epoch 23/100\n",
            "88/88 [==============================] - 2s 26ms/step - loss: 0.0151 - val_loss: 0.0146\n",
            "Epoch 24/100\n",
            "88/88 [==============================] - 2s 26ms/step - loss: 0.0151 - val_loss: 0.0149\n",
            "Epoch 25/100\n",
            "88/88 [==============================] - 2s 27ms/step - loss: 0.0152 - val_loss: 0.0157\n",
            "Epoch 26/100\n",
            "88/88 [==============================] - 2s 27ms/step - loss: 0.0151 - val_loss: 0.0145\n",
            "Epoch 27/100\n",
            "88/88 [==============================] - 2s 26ms/step - loss: 0.0151 - val_loss: 0.0147\n",
            "Epoch 28/100\n",
            "88/88 [==============================] - 2s 28ms/step - loss: 0.0151 - val_loss: 0.0145\n",
            "Epoch 29/100\n",
            "88/88 [==============================] - 2s 26ms/step - loss: 0.0151 - val_loss: 0.0146\n",
            "Epoch 30/100\n",
            "88/88 [==============================] - 2s 25ms/step - loss: 0.0151 - val_loss: 0.0147\n",
            "Epoch 31/100\n",
            "88/88 [==============================] - 2s 26ms/step - loss: 0.0151 - val_loss: 0.0151\n",
            "Epoch 32/100\n",
            "88/88 [==============================] - 2s 26ms/step - loss: 0.0151 - val_loss: 0.0158\n",
            "Epoch 33/100\n",
            "88/88 [==============================] - 2s 27ms/step - loss: 0.0151 - val_loss: 0.0149\n",
            "Epoch 34/100\n",
            "88/88 [==============================] - 2s 28ms/step - loss: 0.0151 - val_loss: 0.0152\n",
            "Epoch 35/100\n",
            "88/88 [==============================] - 2s 25ms/step - loss: 0.0151 - val_loss: 0.0145\n",
            "Epoch 36/100\n",
            "88/88 [==============================] - 2s 26ms/step - loss: 0.0151 - val_loss: 0.0147\n",
            "Epoch 37/100\n",
            "88/88 [==============================] - 2s 27ms/step - loss: 0.0150 - val_loss: 0.0146\n",
            "Epoch 38/100\n",
            "88/88 [==============================] - 2s 27ms/step - loss: 0.0151 - val_loss: 0.0148\n",
            "Epoch 39/100\n",
            "88/88 [==============================] - 2s 28ms/step - loss: 0.0151 - val_loss: 0.0148\n",
            "Epoch 40/100\n",
            "88/88 [==============================] - 2s 28ms/step - loss: 0.0150 - val_loss: 0.0145\n",
            "Epoch 41/100\n",
            "88/88 [==============================] - 2s 26ms/step - loss: 0.0150 - val_loss: 0.0162\n",
            "Epoch 42/100\n",
            "88/88 [==============================] - 2s 26ms/step - loss: 0.0150 - val_loss: 0.0145\n",
            "Epoch 43/100\n",
            "88/88 [==============================] - 2s 27ms/step - loss: 0.0150 - val_loss: 0.0147\n",
            "Epoch 44/100\n",
            "88/88 [==============================] - 2s 26ms/step - loss: 0.0151 - val_loss: 0.0149\n",
            "Epoch 45/100\n",
            "88/88 [==============================] - 3s 29ms/step - loss: 0.0150 - val_loss: 0.0148\n",
            "Epoch 46/100\n",
            "88/88 [==============================] - 2s 27ms/step - loss: 0.0150 - val_loss: 0.0149\n",
            "Epoch 47/100\n",
            "88/88 [==============================] - 2s 26ms/step - loss: 0.0151 - val_loss: 0.0145\n",
            "Epoch 48/100\n",
            "88/88 [==============================] - 2s 27ms/step - loss: 0.0151 - val_loss: 0.0147\n",
            "Epoch 48: early stopping\n",
            "(1734, 64, 64, 3) (1387, 64, 64, 3) (347, 64, 64, 3)\n",
            "Epoch 1/100\n",
            "44/44 [==============================] - 1s 27ms/step - loss: 0.0160 - val_loss: 0.0185\n",
            "Epoch 2/100\n",
            "44/44 [==============================] - 1s 16ms/step - loss: 0.0160 - val_loss: 0.0160\n",
            "Epoch 3/100\n",
            "44/44 [==============================] - 1s 16ms/step - loss: 0.0160 - val_loss: 0.0157\n",
            "Epoch 4/100\n",
            "44/44 [==============================] - 1s 15ms/step - loss: 0.0159 - val_loss: 0.0176\n",
            "Epoch 5/100\n",
            "44/44 [==============================] - 1s 18ms/step - loss: 0.0159 - val_loss: 0.0162\n",
            "Epoch 6/100\n",
            "44/44 [==============================] - 1s 19ms/step - loss: 0.0159 - val_loss: 0.0174\n",
            "Epoch 7/100\n",
            "44/44 [==============================] - 1s 18ms/step - loss: 0.0160 - val_loss: 0.0167\n",
            "Epoch 8/100\n",
            "44/44 [==============================] - 1s 19ms/step - loss: 0.0159 - val_loss: 0.0179\n",
            "Epoch 9/100\n",
            "44/44 [==============================] - 1s 19ms/step - loss: 0.0159 - val_loss: 0.0164\n",
            "Epoch 10/100\n",
            "44/44 [==============================] - 1s 16ms/step - loss: 0.0159 - val_loss: 0.0162\n",
            "Epoch 11/100\n",
            "44/44 [==============================] - 1s 16ms/step - loss: 0.0159 - val_loss: 0.0251\n",
            "Epoch 12/100\n",
            "44/44 [==============================] - 1s 15ms/step - loss: 0.0158 - val_loss: 0.0159\n",
            "Epoch 13/100\n",
            "44/44 [==============================] - 1s 16ms/step - loss: 0.0157 - val_loss: 0.0156\n",
            "Epoch 14/100\n",
            "44/44 [==============================] - 1s 16ms/step - loss: 0.0158 - val_loss: 0.0172\n",
            "Epoch 15/100\n",
            "44/44 [==============================] - 1s 15ms/step - loss: 0.0157 - val_loss: 0.0200\n",
            "Epoch 16/100\n",
            "44/44 [==============================] - 1s 16ms/step - loss: 0.0158 - val_loss: 0.0167\n",
            "Epoch 17/100\n",
            "44/44 [==============================] - 1s 15ms/step - loss: 0.0157 - val_loss: 0.0151\n",
            "Epoch 18/100\n",
            "44/44 [==============================] - 1s 16ms/step - loss: 0.0159 - val_loss: 0.0163\n",
            "Epoch 19/100\n",
            "44/44 [==============================] - 1s 15ms/step - loss: 0.0158 - val_loss: 0.0157\n",
            "Epoch 20/100\n",
            "44/44 [==============================] - 1s 16ms/step - loss: 0.0159 - val_loss: 0.0166\n",
            "Epoch 21/100\n",
            "44/44 [==============================] - 1s 16ms/step - loss: 0.0158 - val_loss: 0.0161\n",
            "Epoch 22/100\n",
            "44/44 [==============================] - 1s 15ms/step - loss: 0.0157 - val_loss: 0.0164\n",
            "Epoch 23/100\n",
            "44/44 [==============================] - 1s 15ms/step - loss: 0.0159 - val_loss: 0.0161\n",
            "Epoch 24/100\n",
            "44/44 [==============================] - 1s 20ms/step - loss: 0.0158 - val_loss: 0.0164\n",
            "Epoch 25/100\n",
            "44/44 [==============================] - 1s 17ms/step - loss: 0.0158 - val_loss: 0.0153\n",
            "Epoch 26/100\n",
            "44/44 [==============================] - 1s 18ms/step - loss: 0.0157 - val_loss: 0.0156\n",
            "Epoch 27/100\n",
            "44/44 [==============================] - 1s 20ms/step - loss: 0.0158 - val_loss: 0.0182\n",
            "Epoch 28/100\n",
            "44/44 [==============================] - 1s 18ms/step - loss: 0.0157 - val_loss: 0.0183\n",
            "Epoch 29/100\n",
            "44/44 [==============================] - 1s 16ms/step - loss: 0.0158 - val_loss: 0.0173\n",
            "Epoch 30/100\n",
            "44/44 [==============================] - 1s 17ms/step - loss: 0.0157 - val_loss: 0.0160\n",
            "Epoch 31/100\n",
            "44/44 [==============================] - 1s 16ms/step - loss: 0.0156 - val_loss: 0.0161\n",
            "Epoch 32/100\n",
            "44/44 [==============================] - 1s 16ms/step - loss: 0.0156 - val_loss: 0.0154\n",
            "Epoch 33/100\n",
            "44/44 [==============================] - 1s 15ms/step - loss: 0.0156 - val_loss: 0.0165\n",
            "Epoch 34/100\n",
            "44/44 [==============================] - 1s 16ms/step - loss: 0.0156 - val_loss: 0.0154\n",
            "Epoch 35/100\n",
            "44/44 [==============================] - 1s 18ms/step - loss: 0.0156 - val_loss: 0.0161\n",
            "Epoch 36/100\n",
            "44/44 [==============================] - 1s 16ms/step - loss: 0.0158 - val_loss: 0.0158\n",
            "Epoch 37/100\n",
            "44/44 [==============================] - 1s 17ms/step - loss: 0.0156 - val_loss: 0.0154\n",
            "Epoch 38/100\n",
            "44/44 [==============================] - 1s 15ms/step - loss: 0.0156 - val_loss: 0.0204\n",
            "Epoch 39/100\n",
            "44/44 [==============================] - 1s 15ms/step - loss: 0.0156 - val_loss: 0.0156\n",
            "Epoch 40/100\n",
            "44/44 [==============================] - 1s 16ms/step - loss: 0.0158 - val_loss: 0.0159\n",
            "Epoch 41/100\n",
            "44/44 [==============================] - 1s 15ms/step - loss: 0.0156 - val_loss: 0.0198\n",
            "Epoch 42/100\n",
            "44/44 [==============================] - 1s 15ms/step - loss: 0.0156 - val_loss: 0.0161\n",
            "Epoch 43/100\n",
            "44/44 [==============================] - 1s 20ms/step - loss: 0.0158 - val_loss: 0.0160\n",
            "Epoch 44/100\n",
            "44/44 [==============================] - 1s 19ms/step - loss: 0.0157 - val_loss: 0.0186\n",
            "Epoch 45/100\n",
            "44/44 [==============================] - 1s 18ms/step - loss: 0.0157 - val_loss: 0.0151\n",
            "Epoch 46/100\n",
            "44/44 [==============================] - 1s 19ms/step - loss: 0.0157 - val_loss: 0.0153\n",
            "Epoch 47/100\n",
            "44/44 [==============================] - 1s 18ms/step - loss: 0.0156 - val_loss: 0.0230\n",
            "Epoch 48/100\n",
            "44/44 [==============================] - 1s 16ms/step - loss: 0.0155 - val_loss: 0.0153\n",
            "Epoch 49/100\n",
            "44/44 [==============================] - 1s 16ms/step - loss: 0.0154 - val_loss: 0.0186\n",
            "Epoch 50/100\n",
            "44/44 [==============================] - 1s 16ms/step - loss: 0.0156 - val_loss: 0.0155\n",
            "Epoch 51/100\n",
            "44/44 [==============================] - 1s 16ms/step - loss: 0.0156 - val_loss: 0.0154\n",
            "Epoch 52/100\n",
            "44/44 [==============================] - 1s 15ms/step - loss: 0.0156 - val_loss: 0.0199\n",
            "Epoch 53/100\n",
            "44/44 [==============================] - 1s 16ms/step - loss: 0.0157 - val_loss: 0.0173\n",
            "Epoch 54/100\n",
            "44/44 [==============================] - 1s 17ms/step - loss: 0.0156 - val_loss: 0.0183\n",
            "Epoch 55/100\n",
            "44/44 [==============================] - 1s 15ms/step - loss: 0.0155 - val_loss: 0.0154\n",
            "Epoch 56/100\n",
            "44/44 [==============================] - 1s 15ms/step - loss: 0.0156 - val_loss: 0.0179\n",
            "Epoch 57/100\n",
            "44/44 [==============================] - 1s 16ms/step - loss: 0.0157 - val_loss: 0.0158\n",
            "Epoch 58/100\n",
            "44/44 [==============================] - 1s 16ms/step - loss: 0.0156 - val_loss: 0.0159\n",
            "Epoch 59/100\n",
            "44/44 [==============================] - 1s 15ms/step - loss: 0.0157 - val_loss: 0.0156\n",
            "Epoch 60/100\n",
            "44/44 [==============================] - 1s 15ms/step - loss: 0.0156 - val_loss: 0.0158\n",
            "Epoch 61/100\n",
            "44/44 [==============================] - 1s 17ms/step - loss: 0.0156 - val_loss: 0.0158\n",
            "Epoch 62/100\n",
            "44/44 [==============================] - 1s 17ms/step - loss: 0.0156 - val_loss: 0.0165\n",
            "Epoch 63/100\n",
            "44/44 [==============================] - 1s 19ms/step - loss: 0.0155 - val_loss: 0.0166\n",
            "Epoch 64/100\n",
            "44/44 [==============================] - 1s 20ms/step - loss: 0.0155 - val_loss: 0.0156\n",
            "Epoch 65/100\n",
            "44/44 [==============================] - 1s 17ms/step - loss: 0.0155 - val_loss: 0.0152\n",
            "Epoch 66/100\n",
            "44/44 [==============================] - 1s 17ms/step - loss: 0.0155 - val_loss: 0.0151\n",
            "Epoch 67/100\n",
            "44/44 [==============================] - 1s 15ms/step - loss: 0.0156 - val_loss: 0.0162\n",
            "Epoch 68/100\n",
            "44/44 [==============================] - 1s 16ms/step - loss: 0.0155 - val_loss: 0.0202\n",
            "Epoch 69/100\n",
            "44/44 [==============================] - 1s 15ms/step - loss: 0.0155 - val_loss: 0.0157\n",
            "Epoch 70/100\n",
            "44/44 [==============================] - 1s 16ms/step - loss: 0.0156 - val_loss: 0.0159\n",
            "Epoch 71/100\n",
            "44/44 [==============================] - 1s 15ms/step - loss: 0.0156 - val_loss: 0.0154\n",
            "Epoch 72/100\n",
            "44/44 [==============================] - 1s 15ms/step - loss: 0.0156 - val_loss: 0.0159\n",
            "Epoch 73/100\n",
            "44/44 [==============================] - 1s 15ms/step - loss: 0.0156 - val_loss: 0.0158\n",
            "Epoch 74/100\n",
            "44/44 [==============================] - 1s 16ms/step - loss: 0.0155 - val_loss: 0.0152\n",
            "Epoch 75/100\n",
            "44/44 [==============================] - 1s 15ms/step - loss: 0.0154 - val_loss: 0.0166\n",
            "Epoch 76/100\n",
            "44/44 [==============================] - 1s 16ms/step - loss: 0.0156 - val_loss: 0.0153\n",
            "Epoch 77/100\n",
            "44/44 [==============================] - 1s 15ms/step - loss: 0.0155 - val_loss: 0.0160\n",
            "Epoch 78/100\n",
            "44/44 [==============================] - 1s 17ms/step - loss: 0.0153 - val_loss: 0.0153\n",
            "Epoch 79/100\n",
            "44/44 [==============================] - 1s 15ms/step - loss: 0.0155 - val_loss: 0.0154\n",
            "Epoch 80/100\n",
            "44/44 [==============================] - 1s 16ms/step - loss: 0.0155 - val_loss: 0.0183\n",
            "Epoch 81/100\n",
            "44/44 [==============================] - 1s 20ms/step - loss: 0.0154 - val_loss: 0.0153\n",
            "Epoch 82/100\n",
            "44/44 [==============================] - 1s 20ms/step - loss: 0.0155 - val_loss: 0.0157\n",
            "Epoch 83/100\n",
            "44/44 [==============================] - 1s 20ms/step - loss: 0.0155 - val_loss: 0.0158\n",
            "Epoch 84/100\n",
            "44/44 [==============================] - 1s 18ms/step - loss: 0.0156 - val_loss: 0.0166\n",
            "Epoch 85/100\n",
            "44/44 [==============================] - 1s 17ms/step - loss: 0.0155 - val_loss: 0.0161\n",
            "Epoch 86/100\n",
            "44/44 [==============================] - 1s 15ms/step - loss: 0.0154 - val_loss: 0.0169\n",
            "Epoch 87/100\n",
            "44/44 [==============================] - 1s 16ms/step - loss: 0.0153 - val_loss: 0.0162\n",
            "Epoch 88/100\n",
            "44/44 [==============================] - 1s 16ms/step - loss: 0.0154 - val_loss: 0.0169\n",
            "Epoch 89/100\n",
            "44/44 [==============================] - 1s 15ms/step - loss: 0.0153 - val_loss: 0.0158\n",
            "Epoch 90/100\n",
            "44/44 [==============================] - 1s 16ms/step - loss: 0.0156 - val_loss: 0.0155\n",
            "Epoch 91/100\n",
            "44/44 [==============================] - 1s 15ms/step - loss: 0.0155 - val_loss: 0.0167\n",
            "Epoch 92/100\n",
            "44/44 [==============================] - 1s 15ms/step - loss: 0.0154 - val_loss: 0.0165\n",
            "Epoch 93/100\n",
            "44/44 [==============================] - 1s 15ms/step - loss: 0.0154 - val_loss: 0.0177\n",
            "Epoch 94/100\n",
            "44/44 [==============================] - 1s 16ms/step - loss: 0.0154 - val_loss: 0.0173\n",
            "Epoch 95/100\n",
            "44/44 [==============================] - 1s 15ms/step - loss: 0.0155 - val_loss: 0.0153\n",
            "Epoch 96/100\n",
            "44/44 [==============================] - 1s 16ms/step - loss: 0.0153 - val_loss: 0.0161\n",
            "Epoch 97/100\n",
            "44/44 [==============================] - 1s 15ms/step - loss: 0.0155 - val_loss: 0.0173\n",
            "Epoch 98/100\n",
            "44/44 [==============================] - 1s 15ms/step - loss: 0.0155 - val_loss: 0.0156\n",
            "Epoch 99/100\n",
            "44/44 [==============================] - 1s 18ms/step - loss: 0.0155 - val_loss: 0.0203\n",
            "Epoch 100/100\n",
            "44/44 [==============================] - 1s 20ms/step - loss: 0.0155 - val_loss: 0.0153\n"
          ]
        },
        {
          "output_type": "execute_result",
          "data": {
            "text/plain": [
              "<keras.callbacks.History at 0x7fdb5053f100>"
            ]
          },
          "metadata": {},
          "execution_count": 62
        }
      ]
    },
    {
      "cell_type": "code",
      "source": [
        "# Save model\n",
        "autoencoder_dr.save(\"autoencoder_v2.h5\")"
      ],
      "metadata": {
        "id": "eIwLkvhsKzqr"
      },
      "execution_count": null,
      "outputs": []
    },
    {
      "cell_type": "code",
      "source": [
        "encoder.save(\"encoder_v2.h5\")\n",
        "decoder.save(\"decoder_v2.h5\")"
      ],
      "metadata": {
        "colab": {
          "base_uri": "https://localhost:8080/"
        },
        "id": "H7Q9ZgHOM_6O",
        "outputId": "1def53ce-e97c-4bf6-ab50-bd0c25b272b9"
      },
      "execution_count": null,
      "outputs": [
        {
          "output_type": "stream",
          "name": "stderr",
          "text": [
            "WARNING:tensorflow:Compiled the loaded model, but the compiled metrics have yet to be built. `model.compile_metrics` will be empty until you train or evaluate the model.\n",
            "WARNING:tensorflow:Compiled the loaded model, but the compiled metrics have yet to be built. `model.compile_metrics` will be empty until you train or evaluate the model.\n"
          ]
        }
      ]
    },
    {
      "cell_type": "code",
      "source": [
        "# Test images\n",
        "\n",
        "x_test=[]\n",
        "for i in range(len(imagePathsTest)):\n",
        "  image=plt.imread(imagePaths[i])\n",
        "  image=cv2.resize(image, (64, 64))\n",
        "  image = image/255\n",
        "  x_test.append(image)\n",
        "x_test=np.array(x_test)\n",
        "\n",
        "reconstructed_img = autoencoder_dr(x_test[0:5])\n",
        "\n",
        "f, axs = plt.subplots(2, 5, figsize=(15, 8))\n",
        "for j in range(5):\n",
        "    axs[0, j].imshow(x_test[j], cmap='binary')\n",
        "    axs[1, j].imshow(reconstructed_img[j].numpy().squeeze(), cmap='binary')\n",
        "    axs[0, j].axis('off')\n",
        "    axs[1, j].axis('off')"
      ],
      "metadata": {
        "colab": {
          "base_uri": "https://localhost:8080/",
          "height": 541
        },
        "id": "BmVh2dCJGLDc",
        "outputId": "078ff017-e455-4854-a233-ad5af763e219"
      },
      "execution_count": null,
      "outputs": [
        {
          "output_type": "display_data",
          "data": {
            "text/plain": [
              "<Figure size 1500x800 with 10 Axes>"
            ],
            "image/png": "[encoded data removed]"
          },
          "metadata": {}
        }
      ]
    },
    {
      "cell_type": "code",
      "source": [
        "# Write features to files\n",
        "\n",
        "fp = open(\"autoencoder_features_v2.txt\", \"w\")\n",
        "for i in imagePaths:\n",
        "  try:\n",
        "    image=plt.imread(i)\n",
        "    image = image/255\n",
        "    image=cv2.resize(image, (64, 64))\n",
        "    fp.write(i+\",\"+\",\".join(map(str, encoder(np.array([image])).numpy()[0].tolist()))+\"\\n\")\n",
        "  except:\n",
        "    pass\n",
        "fp.close()"
      ],
      "metadata": {
        "id": "hYkha7t5PSbN"
      },
      "execution_count": null,
      "outputs": []
    },
    {
      "cell_type": "code",
      "source": [
        "# !wc -l /content/gdrive/MyDrive/data/autoencoder_features_v2.txt"
      ],
      "metadata": {
        "colab": {
          "base_uri": "https://localhost:8080/"
        },
        "id": "oJ80KCJ-bgYU",
        "outputId": "6a4854bf-b0c7-4571-ed71-467e6d9bcaba"
      },
      "execution_count": null,
      "outputs": [
        {
          "output_type": "stream",
          "name": "stdout",
          "text": [
            "0 /content/gdrive/MyDrive/data/autoencoder_features_v2.txt\n"
          ]
        }
      ]
    },
    {
      "cell_type": "code",
      "source": [
        "# Read feature files\n",
        "\n",
        "image_path = []\n",
        "image_features = []\n",
        "fp = open(\"autoencoder_features_v2.txt\", \"r\")\n",
        "for line in fp:\n",
        "  line = line.strip()\n",
        "  image_path.append(line.split(\",\")[0].split(\"/\")[1].split(\",\")[0])\n",
        "  image_features.append(list(map(float, line.split(\",\")[1:])))"
      ],
      "metadata": {
        "id": "AKO9_YPxktnC"
      },
      "execution_count": null,
      "outputs": []
    },
    {
      "cell_type": "code",
      "source": [
        "image_features = np.array(image_features)\n",
        "image_features.shape"
      ],
      "metadata": {
        "colab": {
          "base_uri": "https://localhost:8080/"
        },
        "id": "SmMyRPIusIUj",
        "outputId": "ae2c2486-f8d7-43c3-9355-7d458f1fc5c3"
      },
      "execution_count": null,
      "outputs": [
        {
          "output_type": "execute_result",
          "data": {
            "text/plain": [
              "(25259, 32)"
            ]
          },
          "metadata": {},
          "execution_count": 74
        }
      ]
    },
    {
      "cell_type": "code",
      "source": [
        "# Cluster Extracted Features KMEans\n",
        "\n",
        "from sklearn.cluster import KMeans\n",
        "\n",
        "inertias = []\n",
        "cluster_list = [5,10,20,30,40,50,60,70,80,90,100,130,160,200,250,300,350,400,450]\n",
        "for i in cluster_list:\n",
        "    kmeans = KMeans(n_clusters=i)\n",
        "    kmeans.fit(image_features)\n",
        "    inertias.append(kmeans.inertia_)\n",
        "\n",
        "print(inertias)\n",
        "\n",
        "plt.plot(cluster_list, inertias, marker='o')\n",
        "plt.title('Elbow method')\n",
        "plt.xlabel('Number of clusters')\n",
        "plt.ylabel('Inertia')\n",
        "plt.show()"
      ],
      "metadata": {
        "colab": {
          "base_uri": "https://localhost:8080/",
          "height": 1000
        },
        "id": "VdEL9f91rAD5",
        "outputId": "329aabc1-1aee-49bb-9695-cedccfa6cc83"
      },
      "execution_count": null,
      "outputs": [
        {
          "output_type": "stream",
          "name": "stderr",
          "text": [
            "/usr/local/lib/python3.10/dist-packages/sklearn/cluster/_kmeans.py:870: FutureWarning: The default value of `n_init` will change from 10 to 'auto' in 1.4. Set the value of `n_init` explicitly to suppress the warning\n",
            "  warnings.warn(\n",
            "/usr/local/lib/python3.10/dist-packages/sklearn/cluster/_kmeans.py:870: FutureWarning: The default value of `n_init` will change from 10 to 'auto' in 1.4. Set the value of `n_init` explicitly to suppress the warning\n",
            "  warnings.warn(\n",
            "/usr/local/lib/python3.10/dist-packages/sklearn/cluster/_kmeans.py:870: FutureWarning: The default value of `n_init` will change from 10 to 'auto' in 1.4. Set the value of `n_init` explicitly to suppress the warning\n",
            "  warnings.warn(\n",
            "/usr/local/lib/python3.10/dist-packages/sklearn/cluster/_kmeans.py:870: FutureWarning: The default value of `n_init` will change from 10 to 'auto' in 1.4. Set the value of `n_init` explicitly to suppress the warning\n",
            "  warnings.warn(\n",
            "/usr/local/lib/python3.10/dist-packages/sklearn/cluster/_kmeans.py:870: FutureWarning: The default value of `n_init` will change from 10 to 'auto' in 1.4. Set the value of `n_init` explicitly to suppress the warning\n",
            "  warnings.warn(\n",
            "/usr/local/lib/python3.10/dist-packages/sklearn/cluster/_kmeans.py:870: FutureWarning: The default value of `n_init` will change from 10 to 'auto' in 1.4. Set the value of `n_init` explicitly to suppress the warning\n",
            "  warnings.warn(\n",
            "/usr/local/lib/python3.10/dist-packages/sklearn/cluster/_kmeans.py:870: FutureWarning: The default value of `n_init` will change from 10 to 'auto' in 1.4. Set the value of `n_init` explicitly to suppress the warning\n",
            "  warnings.warn(\n",
            "/usr/local/lib/python3.10/dist-packages/sklearn/cluster/_kmeans.py:870: FutureWarning: The default value of `n_init` will change from 10 to 'auto' in 1.4. Set the value of `n_init` explicitly to suppress the warning\n",
            "  warnings.warn(\n",
            "/usr/local/lib/python3.10/dist-packages/sklearn/cluster/_kmeans.py:870: FutureWarning: The default value of `n_init` will change from 10 to 'auto' in 1.4. Set the value of `n_init` explicitly to suppress the warning\n",
            "  warnings.warn(\n",
            "/usr/local/lib/python3.10/dist-packages/sklearn/cluster/_kmeans.py:870: FutureWarning: The default value of `n_init` will change from 10 to 'auto' in 1.4. Set the value of `n_init` explicitly to suppress the warning\n",
            "  warnings.warn(\n",
            "/usr/local/lib/python3.10/dist-packages/sklearn/cluster/_kmeans.py:870: FutureWarning: The default value of `n_init` will change from 10 to 'auto' in 1.4. Set the value of `n_init` explicitly to suppress the warning\n",
            "  warnings.warn(\n",
            "/usr/local/lib/python3.10/dist-packages/sklearn/cluster/_kmeans.py:870: FutureWarning: The default value of `n_init` will change from 10 to 'auto' in 1.4. Set the value of `n_init` explicitly to suppress the warning\n",
            "  warnings.warn(\n",
            "/usr/local/lib/python3.10/dist-packages/sklearn/cluster/_kmeans.py:870: FutureWarning: The default value of `n_init` will change from 10 to 'auto' in 1.4. Set the value of `n_init` explicitly to suppress the warning\n",
            "  warnings.warn(\n",
            "/usr/local/lib/python3.10/dist-packages/sklearn/cluster/_kmeans.py:870: FutureWarning: The default value of `n_init` will change from 10 to 'auto' in 1.4. Set the value of `n_init` explicitly to suppress the warning\n",
            "  warnings.warn(\n",
            "/usr/local/lib/python3.10/dist-packages/sklearn/cluster/_kmeans.py:870: FutureWarning: The default value of `n_init` will change from 10 to 'auto' in 1.4. Set the value of `n_init` explicitly to suppress the warning\n",
            "  warnings.warn(\n",
            "/usr/local/lib/python3.10/dist-packages/sklearn/cluster/_kmeans.py:870: FutureWarning: The default value of `n_init` will change from 10 to 'auto' in 1.4. Set the value of `n_init` explicitly to suppress the warning\n",
            "  warnings.warn(\n",
            "/usr/local/lib/python3.10/dist-packages/sklearn/cluster/_kmeans.py:870: FutureWarning: The default value of `n_init` will change from 10 to 'auto' in 1.4. Set the value of `n_init` explicitly to suppress the warning\n",
            "  warnings.warn(\n",
            "/usr/local/lib/python3.10/dist-packages/sklearn/cluster/_kmeans.py:870: FutureWarning: The default value of `n_init` will change from 10 to 'auto' in 1.4. Set the value of `n_init` explicitly to suppress the warning\n",
            "  warnings.warn(\n",
            "/usr/local/lib/python3.10/dist-packages/sklearn/cluster/_kmeans.py:870: FutureWarning: The default value of `n_init` will change from 10 to 'auto' in 1.4. Set the value of `n_init` explicitly to suppress the warning\n",
            "  warnings.warn(\n"
          ]
        },
        {
          "output_type": "stream",
          "name": "stdout",
          "text": [
            "[1165716.0718701845, 1084388.5303977097, 1011073.3691689268, 969480.4264553259, 939561.1887474624, 917431.6083863784, 900175.9663523491, 885770.9023167053, 873448.1836454327, 863105.9146149334, 852779.3067773639, 830152.0108355262, 810929.0756366448, 791902.1723919935, 771317.8110629492, 755135.8177185305, 740090.1610357233, 728858.2464135285, 717458.3222583836]\n"
          ]
        },
        {
          "output_type": "display_data",
          "data": {
            "text/plain": [
              "<Figure size 640x480 with 1 Axes>"
            ],
            "image/png": "[encoded data removed]"
          },
          "metadata": {}
        }
      ]
    },
    {
      "cell_type": "code",
      "source": [
        "# Cluster Extracted Features DBSCAN\n",
        "\n",
        "from sklearn.cluster import DBSCAN\n",
        "\n",
        "dbscan = DBSCAN(eps=12, min_samples=2, algorithm = 'kd_tree')\n",
        "dbscan.fit(image_features)"
      ],
      "metadata": {
        "colab": {
          "base_uri": "https://localhost:8080/",
          "height": 74
        },
        "id": "i1mesz4fyLbz",
        "outputId": "d725685c-c307-493a-e12c-0e5b566f2605"
      },
      "execution_count": null,
      "outputs": [
        {
          "output_type": "execute_result",
          "data": {
            "text/plain": [
              "DBSCAN(algorithm='kd_tree', eps=12, min_samples=2)"
            ],
            "text/html": [
              "<style>#sk-container-id-6 {color: black;background-color: white;}#sk-container-id-6 pre{padding: 0;}#sk-container-id-6 div.sk-toggleable {background-color: white;}#sk-container-id-6 label.sk-toggleable__label {cursor: pointer;display: block;width: 100%;margin-bottom: 0;padding: 0.3em;box-sizing: border-box;text-align: center;}#sk-container-id-6 label.sk-toggleable__label-arrow:before {content: \"▸\";float: left;margin-right: 0.25em;color: #696969;}#sk-container-id-6 label.sk-toggleable__label-arrow:hover:before {color: black;}#sk-container-id-6 div.sk-estimator:hover label.sk-toggleable__label-arrow:before {color: black;}#sk-container-id-6 div.sk-toggleable__content {max-height: 0;max-width: 0;overflow: hidden;text-align: left;background-color: #f0f8ff;}#sk-container-id-6 div.sk-toggleable__content pre {margin: 0.2em;color: black;border-radius: 0.25em;background-color: #f0f8ff;}#sk-container-id-6 input.sk-toggleable__control:checked~div.sk-toggleable__content {max-height: 200px;max-width: 100%;overflow: auto;}#sk-container-id-6 input.sk-toggleable__control:checked~label.sk-toggleable__label-arrow:before {content: \"▾\";}#sk-container-id-6 div.sk-estimator input.sk-toggleable__control:checked~label.sk-toggleable__label {background-color: #d4ebff;}#sk-container-id-6 div.sk-label input.sk-toggleable__control:checked~label.sk-toggleable__label {background-color: #d4ebff;}#sk-container-id-6 input.sk-hidden--visually {border: 0;clip: rect(1px 1px 1px 1px);clip: rect(1px, 1px, 1px, 1px);height: 1px;margin: -1px;overflow: hidden;padding: 0;position: absolute;width: 1px;}#sk-container-id-6 div.sk-estimator {font-family: monospace;background-color: #f0f8ff;border: 1px dotted black;border-radius: 0.25em;box-sizing: border-box;margin-bottom: 0.5em;}#sk-container-id-6 div.sk-estimator:hover {background-color: #d4ebff;}#sk-container-id-6 div.sk-parallel-item::after {content: \"\";width: 100%;border-bottom: 1px solid gray;flex-grow: 1;}#sk-container-id-6 div.sk-label:hover label.sk-toggleable__label {background-color: #d4ebff;}#sk-container-id-6 div.sk-serial::before {content: \"\";position: absolute;border-left: 1px solid gray;box-sizing: border-box;top: 0;bottom: 0;left: 50%;z-index: 0;}#sk-container-id-6 div.sk-serial {display: flex;flex-direction: column;align-items: center;background-color: white;padding-right: 0.2em;padding-left: 0.2em;position: relative;}#sk-container-id-6 div.sk-item {position: relative;z-index: 1;}#sk-container-id-6 div.sk-parallel {display: flex;align-items: stretch;justify-content: center;background-color: white;position: relative;}#sk-container-id-6 div.sk-item::before, #sk-container-id-6 div.sk-parallel-item::before {content: \"\";position: absolute;border-left: 1px solid gray;box-sizing: border-box;top: 0;bottom: 0;left: 50%;z-index: -1;}#sk-container-id-6 div.sk-parallel-item {display: flex;flex-direction: column;z-index: 1;position: relative;background-color: white;}#sk-container-id-6 div.sk-parallel-item:first-child::after {align-self: flex-end;width: 50%;}#sk-container-id-6 div.sk-parallel-item:last-child::after {align-self: flex-start;width: 50%;}#sk-container-id-6 div.sk-parallel-item:only-child::after {width: 0;}#sk-container-id-6 div.sk-dashed-wrapped {border: 1px dashed gray;margin: 0 0.4em 0.5em 0.4em;box-sizing: border-box;padding-bottom: 0.4em;background-color: white;}#sk-container-id-6 div.sk-label label {font-family: monospace;font-weight: bold;display: inline-block;line-height: 1.2em;}#sk-container-id-6 div.sk-label-container {text-align: center;}#sk-container-id-6 div.sk-container {/* jupyter's `normalize.less` sets `[hidden] { display: none; }` but bootstrap.min.css set `[hidden] { display: none !important; }` so we also need the `!important` here to be able to override the default hidden behavior on the sphinx rendered scikit-learn.org. See: https://github.com/scikit-learn/scikit-learn/issues/21755 */display: inline-block !important;position: relative;}#sk-container-id-6 div.sk-text-repr-fallback {display: none;}</style><div id=\"sk-container-id-6\" class=\"sk-top-container\"><div class=\"sk-text-repr-fallback\"><pre>DBSCAN(algorithm=&#x27;kd_tree&#x27;, eps=12, min_samples=2)</pre><b>In a Jupyter environment, please rerun this cell to show the HTML representation or trust the notebook. <br />On GitHub, the HTML representation is unable to render, please try loading this page with nbviewer.org.</b></div><div class=\"sk-container\" hidden><div class=\"sk-item\"><div class=\"sk-estimator sk-toggleable\"><input class=\"sk-toggleable__control sk-hidden--visually\" id=\"sk-estimator-id-6\" type=\"checkbox\" checked><label for=\"sk-estimator-id-6\" class=\"sk-toggleable__label sk-toggleable__label-arrow\">DBSCAN</label><div class=\"sk-toggleable__content\"><pre>DBSCAN(algorithm=&#x27;kd_tree&#x27;, eps=12, min_samples=2)</pre></div></div></div></div></div>"
            ]
          },
          "metadata": {},
          "execution_count": 25
        }
      ]
    },
    {
      "cell_type": "code",
      "source": [
        "labels = dbscan.labels_\n",
        "n_clusters = len(set(labels)) - (1 if -1 in labels else 0)"
      ],
      "metadata": {
        "id": "i_VrUqfi5SZ0"
      },
      "execution_count": null,
      "outputs": []
    },
    {
      "cell_type": "code",
      "source": [
        "n_clusters"
      ],
      "metadata": {
        "colab": {
          "base_uri": "https://localhost:8080/"
        },
        "id": "xvWvZoDi5iDb",
        "outputId": "3c0d329f-626b-4566-aeb0-91632d3e14f5"
      },
      "execution_count": null,
      "outputs": [
        {
          "output_type": "execute_result",
          "data": {
            "text/plain": [
              "760"
            ]
          },
          "metadata": {},
          "execution_count": 27
        }
      ]
    },
    {
      "cell_type": "code",
      "source": [
        "image_features.shape"
      ],
      "metadata": {
        "colab": {
          "base_uri": "https://localhost:8080/"
        },
        "id": "qLYzsoDm5o_i",
        "outputId": "66635401-57c7-4d81-94e2-76a5b10921ad"
      },
      "execution_count": null,
      "outputs": [
        {
          "output_type": "execute_result",
          "data": {
            "text/plain": [
              "(25259, 32)"
            ]
          },
          "metadata": {},
          "execution_count": 24
        }
      ]
    }
  ]
}